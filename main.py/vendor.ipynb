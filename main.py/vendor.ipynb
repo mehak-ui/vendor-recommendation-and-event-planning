import numpy as np
import pandas as pd

  # Input section
event = input("Enter event type (Wedding/Birthday/Corporate): ").strip().title()
location = input("Enter event location: ").strip().title()
budget = int(input("Enter your total budget in ₹: "))

vendors = [
    {"name": "Sharma Caterers", "type": "Catering", "location": "Delhi", "price_range": [30000, 40000], "rating": 4.5, "specialty": "Wedding"},
    {"name": "Elegant Decor", "type": "Decoration", "location": "Delhi", "price_range": [20000, 30000], "rating": 4.7, "specialty": "Wedding"},
    {"name": "DJ Beats", "type": "Music", "location": "Delhi", "price_range": [8000, 12000], "rating": 4.2, "specialty": "Wedding"},
    {"name": "Happy Treats", "type": "Catering", "location": "Delhi", "price_range": [15000, 25000], "rating": 4.3, "specialty": "Birthday"},
    {"name": "Party Decor", "type": "Decoration", "location": "Delhi", "price_range": [10000, 20000], "rating": 4.5, "specialty": "Birthday"},
    {"name": "DJ Funbox", "type": "Music", "location": "Delhi", "price_range": [5000, 8000], "rating": 4.1, "specialty": "Birthday"},
    {"name": "Corporate Kitchen", "type": "Catering", "location": "Delhi", "price_range": [20000, 30000], "rating": 4.4, "specialty": "Corporate"},
    {"name": "Minimal Decorators", "type": "Decoration", "location": "Delhi", "price_range": [15000, 22000], "rating": 4.2, "specialty": "Corporate"},
    {"name": "Conference Beats", "type": "Music", "location": "Delhi", "price_range": [7000, 11000], "rating": 4.0, "specialty": "Corporate"},
]

# Dynamic budget allocation based on event type
def get_allocation(event, budget):
    if event == "Wedding":
        return {
            "Catering": int(budget * 0.4),
            "Decoration": int(budget * 0.25),
            "Venue": int(budget * 0.2),
            "Music": int(budget * 0.1),
            "Misc": int(budget * 0.05)
        }
    elif event == "Birthday":
        return {
            "Catering": int(budget * 0.3),
            "Decoration": int(budget * 0.25),
            "Venue": int(budget * 0.2),
            "Music": int(budget * 0.15),
            "Misc": int(budget * 0.1)
        }
    elif event == "Corporate":
        return {
            "Catering": int(budget * 0.35),
            "Decoration": int(budget * 0.2),
            "Venue": int(budget * 0.25),
            "Music": int(budget * 0.1),
            "Misc": int(budget * 0.1)
        }
    else:
        print("Invalid event type!")
        return {}

allocation = get_allocation(event, budget)

def recommend_vendors(vendors, location, event, allocation):
    recommendations = []
    for category in ["Catering", "Decoration", "Venue", "Music"]:
        filtered = [
            v for v in vendors
            if v['type'] == category
            and v['location'].lower() == location.lower()
            and v['specialty'].lower() == event.lower()
            and v['price_range'][0] <= allocation[category]
        ]
        if filtered:
            top = sorted(filtered, key=lambda v: v['rating'], reverse=True)[0]
            recommendations.append(f"- {top['name']} ({category}) ⭐{top['rating']} – Best fit for budget & event")
    return recommendations

 # Event timeline
timeline = {
    "Wedding": [
        "Week 1: Finalize venue & guest list",
        "Week 2: Book caterer and decorator",
        "Week 3: Confirm DJ/music and send invites",
        "Week 4: Final checklist and payments"
    ],
    "Birthday": [
        "Week 1: Choose venue and theme",
        "Week 2: Book decorator and caterer",
        "Week 3: Finalize DJ and cake vendor",
        "Week 4: Confirm attendees and payments"
    ],
    "Corporate": [
        "Week 1: Lock venue and agenda",
        "Week 2: Book caterer and AV setup",
        "Week 3: Confirm speakers and materials",
        "Week 4: Final checklist and logistics"
    ]
} 

# Input section
event = input("Enter event type (Wedding/Birthday/Corporate): ").strip().title()
location = input("Enter event location: ").strip().title()
budget = int(input("Enter your total budget in ₹: "))
Host = input("Enter Host Name: ")

# Output
print(f"\n🎉 Event: {event} in {location} | Budget: ₹{budget}")
print(f"👤 Host: {Host}\n")

print("💰 Budget Breakdown:")
for k, v in allocation.items():
    print(f"- {k}: ₹{v}")

print("\n🔍 Recommended Vendors:")
recommendation_output = recommend_vendors(vendors, location, event, allocation)
if recommendation_output:
    for rec in recommendation_output:
        print(rec)
else:
    print("No vendors matched your criteria.")

print("\n📅 Planning Timeline:")
for task in timeline.get(event, []):
    print(task)
